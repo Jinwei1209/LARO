{
 "cells": [
  {
   "cell_type": "code",
   "execution_count": 9,
   "metadata": {},
   "outputs": [],
   "source": [
    "%matplotlib inline"
   ]
  },
  {
   "cell_type": "code",
   "execution_count": 10,
   "metadata": {},
   "outputs": [],
   "source": [
    "import matplotlib.pyplot as plt\n",
    "import numpy as np\n",
    "import math\n",
    "import scipy\n",
    "import time\n",
    "\n",
    "from sklearn.datasets import make_classification\n",
    "from sklearn.model_selection import cross_val_score\n",
    "from sklearn.svm import SVC\n",
    "from matplotlib import cm\n",
    "# from unwrap import unwrap\n",
    "\n",
    "import os\n",
    "import sys\n",
    "module_path = os.path.abspath(os.path.join('..'))\n",
    "if module_path not in sys.path:\n",
    "    sys.path.append(module_path)\n",
    "    \n",
    "from utils.data import *"
   ]
  },
  {
   "cell_type": "code",
   "execution_count": 11,
   "metadata": {},
   "outputs": [],
   "source": [
    "# first implementation, slow\n",
    "def gen_pattern(a, b, r_spacing=3):\n",
    "    M_c = int(256/2)  # center of kspace\n",
    "    N_c = int(192/2)  # center of kspace\n",
    "    n = math.floor(M_c/r_spacing)  # number of regions\n",
    "    p_pattern = np.zeros((256, 192))\n",
    "    # generate density of the pattern\n",
    "    k = 0\n",
    "    for r_1 in range(0, M_c, r_spacing):\n",
    "        r_2 = r_1 + r_spacing\n",
    "        for i in range(256):\n",
    "            for j in range(192):\n",
    "                if p_pattern[i, j] != 0:\n",
    "                    continue\n",
    "                else:\n",
    "                    radius = np.sqrt((i - M_c)**2 + (j - N_c)**2)\n",
    "                    if radius <  r_2 and radius >= r_1:\n",
    "                        p_pattern[i, j] = np.exp(-(b*k/n)**a)\n",
    "        k += 1\n",
    "    # keep the center square for calibration\n",
    "    p_pattern[M_c-13:M_c+12, N_c-13:N_c+12] = 1\n",
    "    return p_pattern"
   ]
  },
  {
   "cell_type": "code",
   "execution_count": 12,
   "metadata": {},
   "outputs": [],
   "source": [
    "# second implementation, fast\n",
    "def gen_pattern2(a, b, num_row=256, num_col=192, r_spacing=3):\n",
    "    M_c = int(num_row/2)  # center of kspace\n",
    "    N_c = int(num_col/2)  # center of kspace\n",
    "    n = math.floor(M_c/r_spacing)  # number of regions\n",
    "    p_pattern = np.zeros((num_row, num_col)).flatten()\n",
    "    indices = np.array(np.meshgrid(range(num_row), range(num_col))).T.reshape(-1,2)  # row first\n",
    "    distances = np.sqrt((indices[:, 0] - M_c)**2 + (indices[:, 1] - N_c)**2)\n",
    "    distances_orders = distances // r_spacing  # get the order of the distances\n",
    "    for k in range(M_c//r_spacing + 1):\n",
    "        p_pattern[distances_orders == k] = np.exp(-(b*k/n)**a)\n",
    "    p_pattern = p_pattern.reshape(num_row, num_col)\n",
    "#     p_pattern[M_c-13:M_c+12, N_c-13:N_c+12] = 1\n",
    "    return p_pattern\n",
    "\n",
    "def rescalePmask(Pmask, samplingRatio):\n",
    "    xbar = np.mean(Pmask)\n",
    "    r = samplingRatio/xbar\n",
    "    beta = (1-samplingRatio) / (1-xbar)\n",
    "    le = (r<=1)\n",
    "    return le * Pmask * r + (1-le) * (1 - (1-Pmask) * beta)"
   ]
  },
  {
   "cell_type": "code",
   "execution_count": 13,
   "metadata": {},
   "outputs": [],
   "source": [
    "# third implementation\n",
    "a = 1.5\n",
    "b = 10\n",
    "num_row = 206\n",
    "num_col = 80\n",
    "r_spacing = 1\n",
    "M_c = int(num_row/2)  # center of kspace\n",
    "N_c = int(num_col/2)  # center of kspace\n",
    "n = math.floor(M_c/r_spacing)  # number of regions\n",
    "p_pattern = np.zeros((num_row, num_col)).flatten()\n",
    "indices = np.array(np.meshgrid(range(num_row), range(num_col))).T.reshape(-1,2)  # row first\n",
    "distances = np.sqrt((indices[:, 0] - M_c)**2 + (indices[:, 1] - N_c)**2)\n",
    "distances_orders = distances // r_spacing  # get the order of the distances\n",
    "distances_orders = distances_orders.reshape(num_row, num_col)\n",
    "p_pattern = np.exp(-(b*distances_orders/n)**a)"
   ]
  },
  {
   "cell_type": "code",
   "execution_count": 14,
   "metadata": {},
   "outputs": [
    {
     "data": {
      "text/plain": [
       "<matplotlib.colorbar.Colorbar at 0x7f40355019d0>"
      ]
     },
     "execution_count": 14,
     "metadata": {},
     "output_type": "execute_result"
    },
    {
     "data": {
      "image/png": "[encoded data removed]",
      "text/plain": [
       "<Figure size 432x288 with 2 Axes>"
      ]
     },
     "metadata": {
      "needs_background": "light"
     },
     "output_type": "display_data"
    }
   ],
   "source": [
    "plt.figure()\n",
    "plt.imshow(p_pattern)\n",
    "plt.colorbar()"
   ]
  },
  {
   "cell_type": "code",
   "execution_count": null,
   "metadata": {},
   "outputs": [],
   "source": []
  },
  {
   "cell_type": "markdown",
   "metadata": {},
   "source": [
    "# CBIC dataset"
   ]
  },
  {
   "cell_type": "code",
   "execution_count": 15,
   "metadata": {},
   "outputs": [
    {
     "name": "stdout",
     "output_type": "stream",
     "text": [
      "0.13267417775734675\n",
      "0.09284090995788574\n"
     ]
    },
    {
     "data": {
      "image/png": "[encoded data removed]",
      "text/plain": [
       "<Figure size 432x288 with 2 Axes>"
      ]
     },
     "metadata": {
      "needs_background": "light"
     },
     "output_type": "display_data"
    }
   ],
   "source": [
    "t0 = time.time()\n",
    "# a=1.5, b=2.92 for 23.77%, a=1.5, b=3.46 for 18.62%, a=1.5, b=4.25 for 13.90%,\n",
    "p_pattern2 = gen_pattern2(a=1.5, b=2.92, num_row=206, num_col=80, r_spacing=1)\n",
    "p_pattern2 = rescalePmask(p_pattern2, 0.12)  # 0.22 or 0.12\n",
    "p_pattern2[103-10:103+10, 40-10:40+10] = 1\n",
    "plt.figure()\n",
    "plt.imshow(p_pattern2)\n",
    "plt.colorbar()\n",
    "\n",
    "print(np.mean(p_pattern2))\n",
    "\n",
    "print(time.time() - t0)"
   ]
  },
  {
   "cell_type": "code",
   "execution_count": 16,
   "metadata": {},
   "outputs": [
    {
     "name": "stdout",
     "output_type": "stream",
     "text": [
      "0.12682038834951456\n"
     ]
    },
    {
     "data": {
      "image/png": "[encoded data removed]",
      "text/plain": [
       "<Figure size 432x288 with 1 Axes>"
      ]
     },
     "metadata": {
      "needs_background": "light"
     },
     "output_type": "display_data"
    }
   ],
   "source": [
    "mean_value = 0.126820388349515\n",
    "# mean_value = 0.220266990291262\n",
    "u = np.random.uniform(0, 1, size=(206, 80))\n",
    "mask2 = p_pattern2>u\n",
    "while abs(np.mean(mask2) - mean_value) > 1e-10:\n",
    "    u = np.random.uniform(0, 1, size=(206, 80))\n",
    "    mask2 = p_pattern2>u\n",
    "# plt.imshow(np.concatenate((mask, mask2), axis=1))\n",
    "# print(np.mean(mask), np.mean(mask2))\n",
    "plt.imshow(mask2)\n",
    "print(np.mean(mask2))"
   ]
  },
  {
   "cell_type": "code",
   "execution_count": null,
   "metadata": {},
   "outputs": [],
   "source": [
    "writecfl('mask_0.2m', mask2) "
   ]
  },
  {
   "cell_type": "code",
   "execution_count": null,
   "metadata": {},
   "outputs": [],
   "source": []
  },
  {
   "cell_type": "markdown",
   "metadata": {},
   "source": [
    "# MS dataset"
   ]
  },
  {
   "cell_type": "code",
   "execution_count": null,
   "metadata": {},
   "outputs": [],
   "source": [
    "t0 = time.time()\n",
    "# a=1.5, b=2.92 for 23.77%, a=1.5, b=3.46 for 18.62%, a=1.5, b=4.25 for 13.90%,\n",
    "p_pattern2 = gen_pattern2(a=1.5, b=4.25, num_row=206, num_col=68, r_spacing=1)\n",
    "p_pattern2 = rescalePmask(p_pattern2, 0.25)  # 0.22 or 0.12\n",
    "p_pattern2[103-10:103+10, 34-10:34+10] = 1\n",
    "plt.figure()\n",
    "plt.imshow(p_pattern2)\n",
    "plt.colorbar()\n",
    "\n",
    "print(np.mean(p_pattern2))\n",
    "\n",
    "print(time.time() - t0)"
   ]
  },
  {
   "cell_type": "code",
   "execution_count": null,
   "metadata": {},
   "outputs": [],
   "source": [
    "# mean_value = 0.126427755568247\n",
    "# mean_value = 0.219874357509994\n",
    "mean_value = 0.251284980011422\n",
    "u = np.random.uniform(0, 1, size=(206, 68))\n",
    "mask2 = p_pattern2>u\n",
    "while abs(np.mean(mask2) - mean_value) > 1e-10:\n",
    "    u = np.random.uniform(0, 1, size=(206, 68))\n",
    "    mask2 = p_pattern2>u\n",
    "# plt.imshow(np.concatenate((mask, mask2), axis=1))\n",
    "# print(np.mean(mask), np.mean(mask2))\n",
    "plt.imshow(mask2)\n",
    "print(np.mean(mask2))"
   ]
  },
  {
   "cell_type": "code",
   "execution_count": null,
   "metadata": {},
   "outputs": [],
   "source": [
    "writecfl('mask_0.23m', mask2) "
   ]
  },
  {
   "cell_type": "markdown",
   "metadata": {},
   "source": [
    "# Test unwrap function"
   ]
  },
  {
   "cell_type": "code",
   "execution_count": null,
   "metadata": {},
   "outputs": [],
   "source": [
    "rootName = '/data/Jinwei/Multi_echo_slice_recon_GE'\n",
    "iField = load_mat(rootName+'/results/Targets5.mat', varname='Targets')\n",
    "iField[::2, ...] = - iField[::2, ...]"
   ]
  },
  {
   "cell_type": "code",
   "execution_count": null,
   "metadata": {},
   "outputs": [],
   "source": [
    "phase_slice = np.angle(iField[50, :, :, :])\n",
    "necho = iField.shape[-1]\n",
    "unwrapped_slice = unwrap(phase_slice, wrap_around_axis_0=True,\n",
    "                         wrap_around_axis_1=True, wrap_around_axis_2=False)"
   ]
  },
  {
   "cell_type": "code",
   "execution_count": null,
   "metadata": {},
   "outputs": [],
   "source": [
    "plt.figure(figsize = (15,10))\n",
    "for i in range(0, necho):\n",
    "    plt.subplot(2, necho//2, i+1)\n",
    "    plt.imshow(unwrapped_slice[:, :, i], vmin=-12, vmax=6, cmap='gray')\n",
    "    plt.title('echo {}'.format(i))"
   ]
  },
  {
   "cell_type": "code",
   "execution_count": null,
   "metadata": {},
   "outputs": [],
   "source": []
  },
  {
   "cell_type": "code",
   "execution_count": null,
   "metadata": {},
   "outputs": [],
   "source": []
  },
  {
   "cell_type": "code",
   "execution_count": null,
   "metadata": {},
   "outputs": [],
   "source": []
  },
  {
   "cell_type": "code",
   "execution_count": null,
   "metadata": {},
   "outputs": [],
   "source": [
    "data, target = make_classification(n_samples=2500,\n",
    "                                   n_features=45,\n",
    "                                   n_informative=15,\n",
    "                                   n_redundant=5)\n",
    "\n",
    "def sample_loss(params):\n",
    "    print('C = {0}, gamma = {1}'.format(params[0], params[1]))\n",
    "    return cross_val_score(SVC(C=10 ** params[0], gamma=10 ** params[1], random_state=12345),\n",
    "                           X=data, y=target, scoring='roc_auc', cv=3).mean()"
   ]
  },
  {
   "cell_type": "code",
   "execution_count": null,
   "metadata": {
    "scrolled": true
   },
   "outputs": [],
   "source": [
    "lambdas = np.linspace(1, -4, 25)\n",
    "gammas = np.linspace(1, -4, 20)\n",
    "\n",
    "# We need the cartesian combination of these two vectors\n",
    "param_grid = np.array([[C, gamma] for gamma in gammas for C in lambdas])\n",
    "\n",
    "# real_loss = [sample_loss(params) for params in param_grid]\n",
    "real_loss = np.load('real_loss.npy')\n",
    "# np.save('real_loss.npy', real_loss)\n",
    "\n",
    "# The maximum is at:\n",
    "param_grid[np.array(real_loss).argmax(), :]"
   ]
  },
  {
   "cell_type": "code",
   "execution_count": null,
   "metadata": {},
   "outputs": [],
   "source": [
    "C, G = np.meshgrid(lambdas, gammas)\n",
    "plt.figure()\n",
    "cp = plt.contourf(C, G, np.array(real_loss).reshape(C.shape), cmap=cm.jet)\n",
    "plt.colorbar(cp)\n",
    "plt.title('Filled contours plot of loss function L(gamma, C)')\n",
    "plt.xlabel('C')\n",
    "plt.ylabel('gamma')\n",
    "# plt.savefig('/Users/thomashuijskens/Personal/gp-optimisation/figures/real_loss_contour.png', bbox_inches='tight')\n",
    "plt.show()"
   ]
  },
  {
   "cell_type": "code",
   "execution_count": null,
   "metadata": {
    "scrolled": true
   },
   "outputs": [],
   "source": [
    "bounds = np.array([[-4, 1], [-4, 1]])\n",
    "\n",
    "xp, yp = bayesian_optimisation(n_iters=30, \n",
    "                               sample_loss=sample_loss, \n",
    "                               bounds=bounds,\n",
    "                               n_pre_samples=3,\n",
    "                               random_search=False)"
   ]
  },
  {
   "cell_type": "code",
   "execution_count": null,
   "metadata": {},
   "outputs": [],
   "source": [
    "plot_iteration(lambdas, xp, yp, first_iter=3, second_param_grid=gammas, optimum=[0.375, -2.15789474])"
   ]
  },
  {
   "cell_type": "code",
   "execution_count": null,
   "metadata": {},
   "outputs": [],
   "source": []
  },
  {
   "cell_type": "code",
   "execution_count": null,
   "metadata": {},
   "outputs": [],
   "source": [
    "import torch\n",
    "import matplotlib.pyplot as plt"
   ]
  },
  {
   "cell_type": "code",
   "execution_count": null,
   "metadata": {},
   "outputs": [],
   "source": [
    "class CrossEntropyMask(torch.nn.Module):\n",
    "    def __init__(self, necho=10, nrow=206, ncol=80, radius=30):\n",
    "        super(CrossEntropyMask, self).__init__()\n",
    "        self.necho = necho\n",
    "        self.nrow = nrow\n",
    "        self.ncol = ncol\n",
    "        self.non_calib = torch.tensor(self.gen_pattern(radius=radius)).to('cuda')\n",
    "\n",
    "\n",
    "    def gen_pattern(self, num_row=206, num_col=80, radius=30):\n",
    "        M_c = int(num_row/2)  # center of kspace\n",
    "        N_c = int(num_col/2)  # center of kspace\n",
    "        p_pattern = np.ones((num_row, num_col)).flatten()\n",
    "        indices = np.array(np.meshgrid(range(num_row), range(num_col))).T.reshape(-1,2)  # row first\n",
    "        distances = np.sqrt((indices[:, 0] - M_c)**2 * 0.5 + (indices[:, 1] - N_c)**2)\n",
    "        distances_orders = distances // radius  # get the order of the distances\n",
    "        p_pattern[distances_orders == 0] = 0\n",
    "        p_pattern = p_pattern.reshape(num_row, num_col)\n",
    "        return p_pattern\n",
    "\n",
    "\n",
    "    def forward(self, pmask):\n",
    "        loss = 0\n",
    "        for i in range(self.necho):\n",
    "            for j in range(self.necho):\n",
    "                if j == i:\n",
    "                    continue\n",
    "                else:\n",
    "                    a = torch.clamp(pmask[i][self.non_calib==1], min=1e-12, max=1-1e-12)\n",
    "                    b = pmask[j][self.non_calib==1]\n",
    "                    loss -= torch.sum(b*torch.log(a+1e-9)) / b.size()[0]\n",
    "        return loss"
   ]
  },
  {
   "cell_type": "code",
   "execution_count": null,
   "metadata": {},
   "outputs": [],
   "source": [
    "cem = CrossEntropyMask(radius=30)\n",
    "mask = np.asarray(cem.non_calib.cpu().detach())"
   ]
  },
  {
   "cell_type": "code",
   "execution_count": null,
   "metadata": {},
   "outputs": [],
   "source": [
    "plt.figure()\n",
    "plt.imshow(mask)\n",
    "plt.colorbar()"
   ]
  },
  {
   "cell_type": "code",
   "execution_count": null,
   "metadata": {},
   "outputs": [],
   "source": [
    "np.mean(mask)"
   ]
  },
  {
   "cell_type": "code",
   "execution_count": null,
   "metadata": {},
   "outputs": [],
   "source": []
  }
 ],
 "metadata": {
  "kernelspec": {
   "display_name": "Python 3",
   "language": "python",
   "name": "python3"
  }
 },
 "nbformat": 4,
 "nbformat_minor": 4
}
