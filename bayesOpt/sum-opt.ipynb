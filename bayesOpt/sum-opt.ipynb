{
 "cells": [
  {
   "cell_type": "code",
   "execution_count": 1,
   "metadata": {},
   "outputs": [],
   "source": [
    "%matplotlib inline"
   ]
  },
  {
   "cell_type": "code",
   "execution_count": 2,
   "metadata": {},
   "outputs": [],
   "source": [
    "import matplotlib.pyplot as plt\n",
    "import numpy as np\n",
    "import math\n",
    "import scipy\n",
    "import time\n",
    "\n",
    "from sklearn.datasets import make_classification\n",
    "from sklearn.model_selection import cross_val_score\n",
    "from sklearn.svm import SVC\n",
    "from matplotlib import cm\n",
    "\n",
    "import os\n",
    "import sys\n",
    "module_path = os.path.abspath(os.path.join('..'))\n",
    "if module_path not in sys.path:\n",
    "    sys.path.append(module_path)\n",
    "    \n",
    "from utils.data import *"
   ]
  },
  {
   "cell_type": "code",
   "execution_count": null,
   "metadata": {},
   "outputs": [],
   "source": [
    "def gen_pattern(a, b, r_spacing=3):\n",
    "    M_c = int(256/2)  # center of kspace\n",
    "    N_c = int(192/2)  # center of kspace\n",
    "    n = math.floor(M_c/r_spacing)  # number of regions\n",
    "    p_pattern = np.zeros((256, 192))\n",
    "    # generate density of the pattern\n",
    "    k = 0\n",
    "    for r_1 in range(0, M_c, r_spacing):\n",
    "        r_2 = r_1 + r_spacing\n",
    "        for i in range(256):\n",
    "            for j in range(192):\n",
    "                if p_pattern[i, j] != 0:\n",
    "                    continue\n",
    "                else:\n",
    "                    radius = np.sqrt((i - M_c)**2 + (j - N_c)**2)\n",
    "                    if radius <  r_2 and radius >= r_1:\n",
    "                        p_pattern[i, j] = np.exp(-(b*k/n)**a)\n",
    "        k += 1\n",
    "    # keep the center square for calibration\n",
    "    p_pattern[M_c-13:M_c+12, N_c-13:N_c+12] = 1\n",
    "    return p_pattern"
   ]
  },
  {
   "cell_type": "code",
   "execution_count": 3,
   "metadata": {},
   "outputs": [],
   "source": [
    "def gen_pattern2(a, b, num_row=256, num_col=192, r_spacing=3):\n",
    "    M_c = int(num_row/2)  # center of kspace\n",
    "    N_c = int(num_col/2)  # center of kspace\n",
    "    n = math.floor(M_c/r_spacing)  # number of regions\n",
    "    p_pattern = np.zeros((num_row, num_col)).flatten()\n",
    "    indices = np.array(np.meshgrid(range(num_row), range(num_col))).T.reshape(-1,2)  # row first\n",
    "    distances = np.sqrt((indices[:, 0] - M_c)**2 + (indices[:, 1] - N_c)**2)\n",
    "    distances_orders = distances // r_spacing  # get the order of the distances\n",
    "    for k in range(M_c//r_spacing + 1):\n",
    "        p_pattern[distances_orders == k] = np.exp(-(b*k/n)**a)\n",
    "    p_pattern = p_pattern.reshape(num_row, num_col)\n",
    "    p_pattern[M_c-13:M_c+12, N_c-13:N_c+12] = 1\n",
    "    return p_pattern"
   ]
  },
  {
   "cell_type": "code",
   "execution_count": null,
   "metadata": {},
   "outputs": [],
   "source": [
    "t0 = time.time()\n",
    "p_pattern = gen_pattern(a=10**(-0.124), b=10**(0.386), r_spacing=3)\n",
    "plt.figure()\n",
    "plt.imshow(p_pattern)\n",
    "plt.colorbar()\n",
    "\n",
    "# np.mean(p_pattern)\n",
    "\n",
    "print(time.time() - t0)"
   ]
  },
  {
   "cell_type": "code",
   "execution_count": 4,
   "metadata": {},
   "outputs": [
    {
     "name": "stdout",
     "output_type": "stream",
     "text": [
      "0.23752191763061367\n",
      "0.030480146408081055\n"
     ]
    },
    {
     "data": {
      "image/png": "[encoded data removed]",
      "text/plain": [
       "<Figure size 432x288 with 2 Axes>"
      ]
     },
     "metadata": {
      "needs_background": "light"
     },
     "output_type": "display_data"
    }
   ],
   "source": [
    "t0 = time.time()\n",
    "# a=1, b=3.28 for 23.73%\n",
    "p_pattern2 = gen_pattern2(a=1, b=3.28, num_row=206, num_col=80, r_spacing=3)\n",
    "plt.figure()\n",
    "plt.imshow(p_pattern2)\n",
    "plt.colorbar()\n",
    "\n",
    "print(np.mean(p_pattern2))\n",
    "\n",
    "print(time.time() - t0)"
   ]
  },
  {
   "cell_type": "code",
   "execution_count": 5,
   "metadata": {},
   "outputs": [
    {
     "name": "stdout",
     "output_type": "stream",
     "text": [
      "0.2374393203883495\n"
     ]
    },
    {
     "data": {
      "image/png": "[encoded data removed]",
      "text/plain": [
       "<Figure size 432x288 with 1 Axes>"
      ]
     },
     "metadata": {
      "needs_background": "light"
     },
     "output_type": "display_data"
    }
   ],
   "source": [
    "u = np.random.uniform(0, 1, size=(206, 80))\n",
    "mask2 = p_pattern2>u\n",
    "mask2[103-13:103+12, 40-13:40+12] = 1\n",
    "# plt.imshow(np.concatenate((mask, mask2), axis=1))\n",
    "# print(np.mean(mask), np.mean(mask2))\n",
    "plt.imshow(mask2)\n",
    "print(np.mean(mask2))"
   ]
  },
  {
   "cell_type": "code",
   "execution_count": 8,
   "metadata": {},
   "outputs": [],
   "source": [
    "writecfl('mask_0.2m', mask2) "
   ]
  },
  {
   "cell_type": "code",
   "execution_count": null,
   "metadata": {},
   "outputs": [],
   "source": [
    "u = np.random.uniform(0, 1, size=(256, 192))\n",
    "mask2 = (u > 0.89) * (p_pattern > 0) \n",
    "mask2[128-13:128+12, 96-13:96+12] = 1"
   ]
  },
  {
   "cell_type": "code",
   "execution_count": null,
   "metadata": {},
   "outputs": [],
   "source": []
  },
  {
   "cell_type": "code",
   "execution_count": null,
   "metadata": {},
   "outputs": [],
   "source": [
    "data, target = make_classification(n_samples=2500,\n",
    "                                   n_features=45,\n",
    "                                   n_informative=15,\n",
    "                                   n_redundant=5)\n",
    "\n",
    "def sample_loss(params):\n",
    "    print('C = {0}, gamma = {1}'.format(params[0], params[1]))\n",
    "    return cross_val_score(SVC(C=10 ** params[0], gamma=10 ** params[1], random_state=12345),\n",
    "                           X=data, y=target, scoring='roc_auc', cv=3).mean()"
   ]
  },
  {
   "cell_type": "code",
   "execution_count": null,
   "metadata": {
    "scrolled": true
   },
   "outputs": [],
   "source": [
    "lambdas = np.linspace(1, -4, 25)\n",
    "gammas = np.linspace(1, -4, 20)\n",
    "\n",
    "# We need the cartesian combination of these two vectors\n",
    "param_grid = np.array([[C, gamma] for gamma in gammas for C in lambdas])\n",
    "\n",
    "# real_loss = [sample_loss(params) for params in param_grid]\n",
    "real_loss = np.load('real_loss.npy')\n",
    "# np.save('real_loss.npy', real_loss)\n",
    "\n",
    "# The maximum is at:\n",
    "param_grid[np.array(real_loss).argmax(), :]"
   ]
  },
  {
   "cell_type": "code",
   "execution_count": null,
   "metadata": {},
   "outputs": [],
   "source": [
    "C, G = np.meshgrid(lambdas, gammas)\n",
    "plt.figure()\n",
    "cp = plt.contourf(C, G, np.array(real_loss).reshape(C.shape), cmap=cm.jet)\n",
    "plt.colorbar(cp)\n",
    "plt.title('Filled contours plot of loss function L(gamma, C)')\n",
    "plt.xlabel('C')\n",
    "plt.ylabel('gamma')\n",
    "# plt.savefig('/Users/thomashuijskens/Personal/gp-optimisation/figures/real_loss_contour.png', bbox_inches='tight')\n",
    "plt.show()"
   ]
  },
  {
   "cell_type": "code",
   "execution_count": null,
   "metadata": {
    "scrolled": true
   },
   "outputs": [],
   "source": [
    "bounds = np.array([[-4, 1], [-4, 1]])\n",
    "\n",
    "xp, yp = bayesian_optimisation(n_iters=30, \n",
    "                               sample_loss=sample_loss, \n",
    "                               bounds=bounds,\n",
    "                               n_pre_samples=3,\n",
    "                               random_search=False)"
   ]
  },
  {
   "cell_type": "code",
   "execution_count": null,
   "metadata": {},
   "outputs": [],
   "source": [
    "plot_iteration(lambdas, xp, yp, first_iter=3, second_param_grid=gammas, optimum=[0.375, -2.15789474])"
   ]
  },
  {
   "cell_type": "code",
   "execution_count": null,
   "metadata": {},
   "outputs": [],
   "source": []
  }
 ],
 "metadata": {
  "kernelspec": {
   "display_name": "my_torch",
   "language": "python",
   "name": "my_torch"
  },
  "language_info": {
   "codemirror_mode": {
    "name": "ipython",
    "version": 3
   },
   "file_extension": ".py",
   "mimetype": "text/x-python",
   "name": "python",
   "nbconvert_exporter": "python",
   "pygments_lexer": "ipython3",
   "version": "3.6.10"
  }
 },
 "nbformat": 4,
 "nbformat_minor": 4
}
