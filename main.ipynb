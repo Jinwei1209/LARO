{
 "cells": [
  {
   "cell_type": "code",
   "execution_count": null,
   "metadata": {},
   "outputs": [],
   "source": [
    "import os\n",
    "import time\n",
    "import torch\n",
    "import numpy as np\n",
    "from torch.utils import data\n",
    "from loader.real_data_loader import real_data_loader\n",
    "from utils.data import *\n",
    "from models.unet import Unet\n",
    "from models.utils import *\n",
    "from models.discriminator import Basic_D\n",
    "from utils.train import *\n",
    "from IPython.display import clear_output"
   ]
  },
  {
   "cell_type": "code",
   "execution_count": null,
   "metadata": {
    "scrolled": false
   },
   "outputs": [],
   "source": [
    "if __name__ == '__main__':\n",
    "\n",
    "    os.environ[\"CUDA_VISIBLE_DEVICES\"] = '0'\n",
    "    lrG = lrD = 2e-4\n",
    "    niter = 150\n",
    "    batch_size = 32\n",
    "    epoch = 0\n",
    "    gen_iterations = 0\n",
    "    errL1_sum = errG_sum = errD_sum = 0\n",
    "    \n",
    "    display_iters = 10\n",
    "    lambda_l1 = 1000\n",
    "\n",
    "    t0 = time.time()\n",
    "    device = torch.device('cuda' if torch.cuda.is_available() else 'cpu')\n",
    "\n",
    "    dataLoader = real_data_loader(split='train')\n",
    "    trainLoader = data.DataLoader(dataLoader, batch_size=batch_size, shuffle=True)\n",
    "\n",
    "    netG = Unet(input_channels=2, output_channels=1, num_filters=[2**i for i in range(5, 10)])\n",
    "    netD = Basic_D(input_channels=2, output_channels=1, num_filters=[32, 64, 128, 256])\n",
    "    netG.to(device)\n",
    "    netD.to(device)\n",
    "\n",
    "    optimizerD, optimizerG = get_optimizers(netG, netD, lrG, lrD)\n",
    "    print('haha')\n",
    "    print(netG)\n",
    "    \n",
    "    while epoch < niter: \n",
    "        \n",
    "        epoch += 1\n",
    "        for idx, (inputs, targets) in enumerate(trainLoader):\n",
    "            \n",
    "            if gen_iterations%display_iters == 0:\n",
    "                if gen_iterations%(5*display_iters) == 0:           \n",
    "                    clear_output()\n",
    "                \n",
    "                sampling = True\n",
    "                inputs_show, idxs = showImage(inputs, sampling=sampling)\n",
    "                \n",
    "                sampling = False\n",
    "                targets_show, idxs = showImage(targets, idxs=idxs, sampling=sampling)\n",
    "\n",
    "                inputs = inputs.to(device)\n",
    "                outputs = netG(inputs)\n",
    "                outputs_np = np.squeeze(np.asarray(outputs.cpu().detach()))\n",
    "                outputs_show, idxs = showImage(outputs_np, idxs=idxs, sampling=sampling)\n",
    "\n",
    "                print('epochs: [%d/%d], batchs: [%d/%d], Loss_D: %f, Loss_G: %f, loss_L1: %f, time: %ds'\n",
    "                % (epoch, niter, idx, 8800//batch_size+1, errD_sum/display_iters, \n",
    "                errG_sum/display_iters, errL1_sum/display_iters, time.time()-t0))\n",
    "                errL1_sum = errG_sum = errD_sum = 0\n",
    "                \n",
    "            inputs = inputs.to(device)\n",
    "            targets = targets.to(device)\n",
    "            errD = netD_train(inputs, targets, netD, netG, optimizerD)\n",
    "            errD_sum += errD\n",
    "\n",
    "            errG, errL1 = netG_train(inputs, targets, netD, netG, optimizerG, lambda_l1)\n",
    "            errG_sum += errG\n",
    "            errL1_sum += errL1\n",
    "\n",
    "            gen_iterations += 1"
   ]
  },
  {
   "cell_type": "code",
   "execution_count": null,
   "metadata": {},
   "outputs": [],
   "source": []
  }
 ],
 "metadata": {
  "kernelspec": {
   "display_name": "Python 3",
   "language": "python",
   "name": "python3"
  },
  "language_info": {
   "codemirror_mode": {
    "name": "ipython",
    "version": 3
   },
   "file_extension": ".py",
   "mimetype": "text/x-python",
   "name": "python",
   "nbconvert_exporter": "python",
   "pygments_lexer": "ipython3",
   "version": "3.5.4"
  }
 },
 "nbformat": 4,
 "nbformat_minor": 2
}
